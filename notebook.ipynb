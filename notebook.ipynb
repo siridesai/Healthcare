import pandas as pd

df1 = pd.read_csv('GHED_data.csv')
ghed_select = df1.loc[:, ['location', 'code', 'year', 'gdp_usd2022_pc']]

df2 = pd.read_csv('life_expectancy.csv')
df2 = df2.rename(columns={'ISO3 Alpha-code': 'code', 'Year': 'year'})
life_expectancy_select = df2.loc[:,['code', 'year', '0']]

ghed_select['year'] = ghed_select['year'].astype(str)
life_expectancy_select['year'] = life_expectancy_select['year'].astype(str)

merged_df = pd.merge(ghed_select, life_expectancy_select, on=['code','year'])

merged_df.to_csv('ghed_life_expectancy_gdp_official.csv', index=False)
